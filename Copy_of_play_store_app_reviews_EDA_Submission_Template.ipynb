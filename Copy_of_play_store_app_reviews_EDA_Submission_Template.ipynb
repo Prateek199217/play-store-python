{
  "nbformat": 4,
  "nbformat_minor": 0,
  "metadata": {
    "colab": {
      "private_outputs": true,
      "provenance": [],
      "collapsed_sections": [
        "vncDsAP0Gaoa",
        "FJNUwmbgGyua",
        "w6K7xa23Elo4",
        "yQaldy8SH6Dl",
        "PH-0ReGfmX4f",
        "mDgbUHAGgjLW",
        "O_i_v8NEhb9l",
        "HhfV-JJviCcP",
        "Y3lxredqlCYt",
        "3RnN4peoiCZX",
        "x71ZqKXriCWQ",
        "7hBIi_osiCS2",
        "JlHwYmJAmNHm",
        "35m5QtbWiB9F",
        "PoPl-ycgm1ru",
        "H0kj-8xxnORC",
        "nA9Y7ga8ng1Z",
        "PBTbrJXOngz2",
        "u3PMJOP6ngxN",
        "dauF4eBmngu3",
        "bKJF3rekwFvQ",
        "MSa1f5Uengrz",
        "GF8Ens_Soomf",
        "0wOQAZs5pc--",
        "K5QZ13OEpz2H",
        "lQ7QKXXCp7Bj",
        "448CDAPjqfQr",
        "KSlN3yHqYklG",
        "t6dVpIINYklI",
        "ijmpgYnKYklI",
        "-JiQyfWJYklI",
        "EM7whBJCYoAo",
        "fge-S5ZAYoAp",
        "85gYPyotYoAp",
        "RoGjAbkUYoAp",
        "4Of9eVA-YrdM",
        "iky9q4vBYrdO",
        "F6T5p64dYrdO",
        "y-Ehk30pYrdP",
        "bamQiAODYuh1",
        "QHF8YVU7Yuh3",
        "GwzvFGzlYuh3",
        "qYpmQ266Yuh3",
        "OH-pJp9IphqM",
        "bbFf2-_FphqN",
        "_ouA3fa0phqN",
        "Seke61FWphqN",
        "PIIx-8_IphqN",
        "t27r6nlMphqO",
        "r2jJGEOYphqO",
        "b0JNsNcRphqO",
        "BZR9WyysphqO",
        "jj7wYXLtphqO",
        "eZrbJ2SmphqO",
        "rFu4xreNphqO",
        "YJ55k-q6phqO",
        "gCFgpxoyphqP",
        "OVtJsKN_phqQ",
        "lssrdh5qphqQ",
        "U2RJ9gkRphqQ",
        "1M8mcRywphqQ",
        "tgIPom80phqQ",
        "JMzcOPDDphqR",
        "x-EpHcCOp1ci",
        "X_VqEhTip1ck",
        "8zGJKyg5p1ck",
        "PVzmfK_Ep1ck",
        "n3dbpmDWp1ck",
        "ylSl6qgtp1ck",
        "ZWILFDl5p1ck",
        "M7G43BXep1ck",
        "Ag9LCva-p1cl",
        "E6MkPsBcp1cl",
        "2cELzS2fp1cl",
        "3MPXvC8up1cl",
        "NC_X3p0fY2L0",
        "UV0SzAkaZNRQ",
        "YPEH6qLeZNRQ",
        "q29F0dvdveiT",
        "EXh0U9oCveiU",
        "22aHeOlLveiV",
        "JcMwzZxoAimU",
        "8G2x9gOozGDZ",
        "gCX9965dhzqZ",
        "gIfDvo9L0UH2"
      ]
    },
    "kernelspec": {
      "name": "python3",
      "display_name": "Python 3"
    },
    "language_info": {
      "name": "python"
    }
  },
  "cells": [
    {
      "cell_type": "markdown",
      "source": [
        "# **Project Name**    - Play Store App Review\n",
        "\n"
      ],
      "metadata": {
        "id": "vncDsAP0Gaoa"
      }
    },
    {
      "cell_type": "markdown",
      "source": [
        "##### **Project Type**    - EDA\n",
        "\n",
        "\n",
        "\n",
        "##### **Contribution**    - Self\n",
        "\n",
        "##### **Prateek Chaudhari**\n"
      ],
      "metadata": {
        "id": "beRrZCGUAJYm"
      }
    },
    {
      "cell_type": "markdown",
      "source": [
        "# **Project Summary -**"
      ],
      "metadata": {
        "id": "FJNUwmbgGyua"
      }
    },
    {
      "cell_type": "markdown",
      "source": [
        "I prateek chaudhari did this analysis project on play store data alone. There are two tables in data set one is play store data and other is user reviews. In play store there are 13 colmuns - App contains name of apps, Category contains in which category app belongs , Rating contains how people rated the app, Reviews  contains how people reviewd the app, Size contains actual size of app, Installs contains no of installation, Type shows what type app belongs, Price contains what is the price of app, Content Rating contains what is the age group of people it is related to, Genners shows the theme of app, Last updated contains when the app is updated lastly, Current ver contains the current version of app, Android ver contains android version supported by app and in user reviews there are 5 columns named Apps contain name of app, Translated_review contain reviews after translation by machine, Sentimental contains after reading reviews is postive negative or nutral, Sentimental polarity contains how strong the review is, Sentimental subjectivity contains the subect matter strength of review.All the data avaliable in these tables are till 2018 so analysis has limitiation of year. I try to find a solution for those who plan to launch a new application over google play store for a successful app they must know few things like how many apps are registered, what type of content rating, top apps in that category, avg size of app, no of installs etc. for this I closely check data sets columns and find some nan values, duplicate values, irrelevent data.I also convert the size of apps in bytes. for cleaning and converting such data i use google sheet filters and find and replace method. Then i load the csv files in drive and connect the drive with google colab. I import necessary librery for analysis and mount the drive. I load the csv files. My findings are as fallows-\n",
        "* family category has most no of apps so competition is too tough if one plan to launch an app in this category. For this I use bar chart.\n",
        "* If one decided to launch an app in family category Teh I find top 10 apps based on user reviews which helps one to find what are the size, no of installs, Type, Price, Genners and current version to beat the competiton.\n",
        "* I find name of apps in each category having max no of installs. \n",
        "* I find percentage of content rating of all apps and find that majority of the apps content is for everyone and for this use pie chart.\n",
        "* I find how many apps are updated in each year and find that there is incresing order of app update in year on year bases and rapid growth in 2018 and for this i use line chart.\n",
        "* I find preview of sentimental polarity and find that most of the apps having postive sentiment for this i use bar chart.\n",
        "* I find average size of apps by category which helps one to decide what is the size of apps and find that gaming apps has larger avg size. for this i use bar graph.\n",
        "* I find top rated apps in each category for which i take 4.0 above as top rated.I find family category has max no of apps rated above 4.0. I use bar chart for representation.\n",
        "\n"
      ],
      "metadata": {
        "id": "F6v_1wHtG2nS"
      }
    },
    {
      "cell_type": "markdown",
      "source": [
        "# **GitHub Link -**"
      ],
      "metadata": {
        "id": "w6K7xa23Elo4"
      }
    },
    {
      "cell_type": "markdown",
      "source": [
        "https://github.com/Prateek199217/play-store-python/blob/main/Play_store_app_reviews_analysis_.ipynb"
      ],
      "metadata": {
        "id": "h1o69JH3Eqqn"
      }
    },
    {
      "cell_type": "markdown",
      "source": [
        "# **Problem Statement**\n"
      ],
      "metadata": {
        "id": "yQaldy8SH6Dl"
      }
    },
    {
      "cell_type": "markdown",
      "source": [
        "**Problem Statements**\n",
        "\n",
        "> 1. How many apps registered in each category ?\n",
        "> 2. Top ten most reviewed apps in Family category ?\n",
        "> 3. Which app is most installed in each category ?\n",
        "> 4. On the whole what is the percentage of content rating of apps ?\n",
        "> 5. How many apps are updated in each year ?\n",
        "> 6. Preview of sentimental polarity of registered apps in play store ?\n",
        "> 7. avg size of apps registered in each category?\n",
        "> 8. In each category how many apps are rated above 4.0 ?\n",
        "\n",
        "\n",
        "\n",
        "\n",
        "\n"
      ],
      "metadata": {
        "id": "DpeJGUA3kjGy"
      }
    },
    {
      "cell_type": "markdown",
      "source": [
        "#### **Business Objective**"
      ],
      "metadata": {
        "id": "PH-0ReGfmX4f"
      }
    },
    {
      "cell_type": "markdown",
      "source": [
        "Helps stakeholder for launching/ugrading their existing apps. Improving effeciency and productivety of play store to manage and enhance their user/customer experience. Identifying trends and patterns of registered apps."
      ],
      "metadata": {
        "id": "PhDvGCAqmjP1"
      }
    },
    {
      "cell_type": "markdown",
      "source": [
        "# **General Guidelines** : -  "
      ],
      "metadata": {
        "id": "mDgbUHAGgjLW"
      }
    },
    {
      "cell_type": "markdown",
      "source": [
        "```\n",
        "# Analysis code\n",
        "```\n",
        "Code is well-structured, formatted, and commented fallow the steps in sequence. \n",
        "\n",
        "\n",
        "```\n",
        "# Chart visualization code\n",
        "```\n",
        "            \n",
        "\n",
        "*   We use charts for visualization \n",
        "\n",
        "  * Line chart -  showing the time line \n",
        "  * Bar chart -  categorical data\n",
        "  * Pie chart -  in percentage data\n",
        "\n",
        "\n",
        "\n"
      ],
      "metadata": {
        "id": "ZrxVaUj-hHfC"
      }
    },
    {
      "cell_type": "markdown",
      "source": [
        "# ***Let's Begin !***"
      ],
      "metadata": {
        "id": "O_i_v8NEhb9l"
      }
    },
    {
      "cell_type": "markdown",
      "source": [
        "## ***1. Know Your Data***"
      ],
      "metadata": {
        "id": "HhfV-JJviCcP"
      }
    },
    {
      "cell_type": "markdown",
      "source": [
        "### Import Libraries"
      ],
      "metadata": {
        "id": "Y3lxredqlCYt"
      }
    },
    {
      "cell_type": "code",
      "source": [
        "# Import Libraries\n",
        "import numpy as np\n",
        "import pandas as pd\n",
        "import matplotlib.pyplot as plt\n"
      ],
      "metadata": {
        "id": "M8Vqi-pPk-HR"
      },
      "execution_count": null,
      "outputs": []
    },
    {
      "cell_type": "markdown",
      "source": [
        "### Mount drive"
      ],
      "metadata": {
        "id": "AT-LyUV8HnCh"
      }
    },
    {
      "cell_type": "code",
      "source": [
        "from google.colab import drive\n",
        "drive.mount('/content/drive')"
      ],
      "metadata": {
        "id": "1cnTCq3FIF-0"
      },
      "execution_count": null,
      "outputs": []
    },
    {
      "cell_type": "markdown",
      "source": [
        "### Dataset Loading"
      ],
      "metadata": {
        "id": "3RnN4peoiCZX"
      }
    },
    {
      "cell_type": "code",
      "source": [
        "# Load Dataset\n",
        "play_store_data=pd.read_csv('/content/drive/MyDrive/Alma better/Module 1 - Python/Project/Play Store Data ..csv')\n",
        "user_reviews=pd.read_csv('/content/drive/MyDrive/Alma better/Module 1 - Python/Project/User Reviews.csv')"
      ],
      "metadata": {
        "id": "4CkvbW_SlZ_R"
      },
      "execution_count": null,
      "outputs": []
    },
    {
      "cell_type": "markdown",
      "source": [
        "### Dataset First View"
      ],
      "metadata": {
        "id": "x71ZqKXriCWQ"
      }
    },
    {
      "cell_type": "code",
      "source": [
        "# Dataset First Look\n",
        "play_store_data.head(2)"
      ],
      "metadata": {
        "id": "LWNFOSvLl09H"
      },
      "execution_count": null,
      "outputs": []
    },
    {
      "cell_type": "code",
      "source": [
        "user_reviews.head(2)"
      ],
      "metadata": {
        "id": "S6ReMzAyIgm3"
      },
      "execution_count": null,
      "outputs": []
    },
    {
      "cell_type": "markdown",
      "source": [
        "### Dataset Rows & Columns count"
      ],
      "metadata": {
        "id": "7hBIi_osiCS2"
      }
    },
    {
      "cell_type": "code",
      "source": [
        "# Dataset Rows & Columns count\n",
        "print(\"play store data\",play_store_data.shape)\n",
        "print(\"user reviews\",user_reviews.shape)"
      ],
      "metadata": {
        "id": "Kllu7SJgmLij"
      },
      "execution_count": null,
      "outputs": []
    },
    {
      "cell_type": "markdown",
      "source": [
        "### Dataset Information"
      ],
      "metadata": {
        "id": "JlHwYmJAmNHm"
      }
    },
    {
      "cell_type": "code",
      "source": [
        "# Dataset Info\n",
        "print(play_store_data.info())"
      ],
      "metadata": {
        "id": "e9hRXRi6meOf"
      },
      "execution_count": null,
      "outputs": []
    },
    {
      "cell_type": "code",
      "source": [
        "print(user_reviews.info())"
      ],
      "metadata": {
        "id": "bM1k-JLZJoEg"
      },
      "execution_count": null,
      "outputs": []
    },
    {
      "cell_type": "markdown",
      "source": [
        "#### Duplicate Values"
      ],
      "metadata": {
        "id": "35m5QtbWiB9F"
      }
    },
    {
      "cell_type": "code",
      "source": [
        "# Dataset Duplicate Value Count\n",
        "play_store_data.duplicated()"
      ],
      "metadata": {
        "id": "1sLdpKYkmox0"
      },
      "execution_count": null,
      "outputs": []
    },
    {
      "cell_type": "code",
      "source": [
        "user_reviews.duplicated()"
      ],
      "metadata": {
        "id": "5dumqGDCLOUS"
      },
      "execution_count": null,
      "outputs": []
    },
    {
      "cell_type": "markdown",
      "source": [
        "### What did you know about your dataset?"
      ],
      "metadata": {
        "id": "H0kj-8xxnORC"
      }
    },
    {
      "cell_type": "markdown",
      "source": [
        "The data consist 2 table first one play store data table which consist 13 columns basically app name, installs, review , rating, last updated, latest version, android version, Category, Genres, content rating, price etc. and other table user reviews contains data about review sentimental."
      ],
      "metadata": {
        "id": "gfoNAAC-nUe_"
      }
    },
    {
      "cell_type": "markdown",
      "source": [
        "# **Conclusion**"
      ],
      "metadata": {
        "id": "gCX9965dhzqZ"
      }
    },
    {
      "cell_type": "markdown",
      "source": [
        "We tried to find all the necessary insights from the data  \n",
        "\n",
        "* family category has most no of apps so competition is too tough if one plan to launch an app in this category. \n",
        "* If one decided to launch an app in family category Then I find top 10 apps based on user reviews which helps one to find what are the size, no of installs, Type, Price, Genners and current version to beat the competiton.\n",
        "* I find name of apps in each category having max no of installs.\n",
        "* I find that majority of the apps content is for everyone.\n",
        "* I find how many apps are updated in each year and find that there is incresing order of app update in year on year bases and rapid growth in 2018.\n",
        "* I find that most of the apps having postive sentiment \n",
        "* I find average size of apps by category which helps one to decide what is the size of apps and find that gaming apps has larger avg size. \n",
        "* I find top rated apps in each category for which i take 4.0 above as top rated.I find family category has max no of apps rated above 4.0. \n"
      ],
      "metadata": {
        "id": "Fjb1IsQkh3yE"
      }
    },
    {
      "cell_type": "markdown",
      "source": [
        "### ***Hurrah! You have successfully completed your EDA Capstone Project !!!***"
      ],
      "metadata": {
        "id": "gIfDvo9L0UH2"
      }
    }
  ]
}